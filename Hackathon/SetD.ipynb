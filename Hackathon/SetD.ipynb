{
 "cells": [
  {
   "cell_type": "code",
   "execution_count": 1,
   "outputs": [],
   "source": [
    "import pandas as pd\n",
    "import numpy as np\n",
    "from matplotlib import pyplot as plt\n",
    "from common.utils import EvaluationMetrics, ActivationFunctions, AverageNormalizer2D\n",
    "from models.linear_regression import LinearRegressionAnalytic\n",
    "from models.logistic_regressions import LogisticRegression\n",
    "from models.neural_networks import *\n",
    "from models.support_vector import SVM"
   ],
   "metadata": {
    "collapsed": false,
    "pycharm": {
     "name": "#%%\n"
    }
   }
  },
  {
   "cell_type": "code",
   "execution_count": 2,
   "outputs": [],
   "source": [
    "def calculate_classification_metrics(yhat, y):\n",
    "    if isinstance(y, pd.Series):\n",
    "        y = y.to_numpy()\n",
    "    if isinstance(yhat, pd.Series):\n",
    "        yhat = yhat.to_numpy()\n",
    "\n",
    "    accuracy = 100. * sum(yhat == y) / len(y)\n",
    "\n",
    "    true_positive, true_negative, false_positive, false_negative = 0, 0, 0, 0\n",
    "    for i, _ in enumerate(y):\n",
    "        if y[i] == 1:\n",
    "            if yhat[i] == 1:\n",
    "                true_positive += 1\n",
    "            else:\n",
    "                false_negative += 1\n",
    "        else:\n",
    "            if yhat[i] == 1:\n",
    "                false_positive += 1\n",
    "            else:\n",
    "                true_negative += 1\n",
    "\n",
    "    precision = true_positive / (true_positive + false_positive)\n",
    "    recall = true_positive / (true_positive + false_negative)\n",
    "    f1 = 2 * (precision * recall) / (precision + recall)\n",
    "    return accuracy, precision, recall, f1\n",
    "\n",
    "\n",
    "def print_classification_metrics(yhat, y):\n",
    "    accuracy, precision, recall, f1 = calculate_classification_metrics(yhat, y)\n",
    "    print(f\"Accuracy = {accuracy}\")\n",
    "    print(f\"Precision = {precision}\")\n",
    "    print(f\"Recall = {recall}\")\n",
    "    print(f\"F1 = {f1}\")\n",
    "\n",
    "def calculate_regression_metrics(yhat, y):\n",
    "    mae = np.mean((yhat - y) ** 2)\n",
    "    rmse = np.sqrt(mae)\n",
    "\n",
    "    y_bar = y.mean()\n",
    "    ss_tot = ((y-y_bar)**2).sum()\n",
    "    ss_res = ((y-yhat)**2).sum()\n",
    "    r2 =  1 - (ss_res/ss_tot)\n",
    "    return mae, rmse, r2\n",
    "\n",
    "def print_regression_metrics(yhat, y):\n",
    "    mae, rmse, r2 = calculate_regression_metrics(yhat, y)\n",
    "    print(f\"MAE = {mae}\")\n",
    "    print(f\"RMSE = {rmse}\")\n",
    "    print(f\"R2 = {r2}\")"
   ],
   "metadata": {
    "collapsed": false,
    "pycharm": {
     "name": "#%%\n"
    }
   }
  },
  {
   "cell_type": "code",
   "execution_count": 3,
   "outputs": [],
   "source": [
    "# Hackathon Set D\n",
    "\n",
    "## Machine Learning Lab, SS 22, Uni Passau\n",
    "\n",
    "### Rules:\n",
    "\n",
    "# 1. You have time from 12 pm until 6 pm to complete the Hackathon task.\n",
    "# 2. Submissions must be pushed to your gitlab in a folder dubbed `Hackathon`. Submissions are allowed until 6 pm.\n",
    "# 3. Run your solutions in lines created under the individual questionnaire.\n",
    "# 4. For model implementations you are permitted to use only your library in its final state before the commencement of the exam.\n"
   ],
   "metadata": {
    "collapsed": false,
    "pycharm": {
     "name": "#%%\n"
    }
   }
  },
  {
   "cell_type": "markdown",
   "metadata": {
    "pycharm": {
     "name": "#%% md\n"
    }
   },
   "source": [
    "### Task 1: Prepare your data\n",
    "\n",
    "   1. Download the two datasets and read them into memory.\n",
    "   2.Analyse the data shape, targets and data characteristics.\n",
    "   3.Apply any data cleaning, filling mechanisms if required\n",
    "   4.Split the datasets into `train`, `valid` and `test` folds."
   ]
  },
  {
   "cell_type": "markdown",
   "metadata": {
    "pycharm": {
     "name": "#%% md\n"
    }
   },
   "source": [
    "Dataset 1: [CLASSIFICATION] Mammographic Mass: https://archive.ics.uci.edu/ml/datasets/Mammographic+Mass\n",
    "\n",
    "```python\n",
    "!wget -P ./data/mammographic-mass/ https://archive.ics.uci.edu/ml/machine-learning-databases/mammographic-masses/mammographic_masses.data\n",
    "!wget -P ./data/mammographic-mass/ https://archive.ics.uci.edu/ml/machine-learning-databases/mammographic-masses/mammographic_masses.names\n",
    "```\n",
    "Dataset 2: [REGRESION] Computer Hardware Data Set:https://archive.ics.uci.edu/ml/datasets/Computer+Hardware\n",
    "\n",
    "\n"
   ]
  },
  {
   "cell_type": "code",
   "execution_count": 4,
   "outputs": [
    {
     "name": "stdout",
     "output_type": "stream",
     "text": [
      "loading mammographic dataset\n",
      "dropped  130  null values\n"
     ]
    },
    {
     "data": {
      "text/plain": "      Age  Shape  Margin  Density  Severity\n0    67.0    3.0     5.0      3.0         1\n2    58.0    4.0     5.0      3.0         1\n3    28.0    1.0     1.0      3.0         0\n8    57.0    1.0     5.0      3.0         1\n10   76.0    1.0     4.0      3.0         1\n..    ...    ...     ...      ...       ...\n956  47.0    2.0     1.0      3.0         0\n957  56.0    4.0     5.0      3.0         1\n958  64.0    4.0     5.0      3.0         0\n959  66.0    4.0     5.0      3.0         1\n960  62.0    3.0     3.0      3.0         0\n\n[831 rows x 5 columns]",
      "text/html": "<div>\n<style scoped>\n    .dataframe tbody tr th:only-of-type {\n        vertical-align: middle;\n    }\n\n    .dataframe tbody tr th {\n        vertical-align: top;\n    }\n\n    .dataframe thead th {\n        text-align: right;\n    }\n</style>\n<table border=\"1\" class=\"dataframe\">\n  <thead>\n    <tr style=\"text-align: right;\">\n      <th></th>\n      <th>Age</th>\n      <th>Shape</th>\n      <th>Margin</th>\n      <th>Density</th>\n      <th>Severity</th>\n    </tr>\n  </thead>\n  <tbody>\n    <tr>\n      <th>0</th>\n      <td>67.0</td>\n      <td>3.0</td>\n      <td>5.0</td>\n      <td>3.0</td>\n      <td>1</td>\n    </tr>\n    <tr>\n      <th>2</th>\n      <td>58.0</td>\n      <td>4.0</td>\n      <td>5.0</td>\n      <td>3.0</td>\n      <td>1</td>\n    </tr>\n    <tr>\n      <th>3</th>\n      <td>28.0</td>\n      <td>1.0</td>\n      <td>1.0</td>\n      <td>3.0</td>\n      <td>0</td>\n    </tr>\n    <tr>\n      <th>8</th>\n      <td>57.0</td>\n      <td>1.0</td>\n      <td>5.0</td>\n      <td>3.0</td>\n      <td>1</td>\n    </tr>\n    <tr>\n      <th>10</th>\n      <td>76.0</td>\n      <td>1.0</td>\n      <td>4.0</td>\n      <td>3.0</td>\n      <td>1</td>\n    </tr>\n    <tr>\n      <th>...</th>\n      <td>...</td>\n      <td>...</td>\n      <td>...</td>\n      <td>...</td>\n      <td>...</td>\n    </tr>\n    <tr>\n      <th>956</th>\n      <td>47.0</td>\n      <td>2.0</td>\n      <td>1.0</td>\n      <td>3.0</td>\n      <td>0</td>\n    </tr>\n    <tr>\n      <th>957</th>\n      <td>56.0</td>\n      <td>4.0</td>\n      <td>5.0</td>\n      <td>3.0</td>\n      <td>1</td>\n    </tr>\n    <tr>\n      <th>958</th>\n      <td>64.0</td>\n      <td>4.0</td>\n      <td>5.0</td>\n      <td>3.0</td>\n      <td>0</td>\n    </tr>\n    <tr>\n      <th>959</th>\n      <td>66.0</td>\n      <td>4.0</td>\n      <td>5.0</td>\n      <td>3.0</td>\n      <td>1</td>\n    </tr>\n    <tr>\n      <th>960</th>\n      <td>62.0</td>\n      <td>3.0</td>\n      <td>3.0</td>\n      <td>3.0</td>\n      <td>0</td>\n    </tr>\n  </tbody>\n</table>\n<p>831 rows × 5 columns</p>\n</div>"
     },
     "execution_count": 4,
     "metadata": {},
     "output_type": "execute_result"
    }
   ],
   "source": [
    "# with open(\"./mammographic/mammographic_masses.data\") as file:\n",
    "#     names = file.read()\n",
    "print(\"loading mammographic dataset\")\n",
    "mammographic = pd.read_csv(\"./mammographic/mammographic_masses.data\",\n",
    "                           names=['BI-RADS', 'Age', 'Shape', 'Margin', 'Density', 'Severity'],\n",
    "                           usecols=['Age', 'Shape', 'Margin', 'Density', 'Severity'], na_values='?')\n",
    "nulls = mammographic.isnull().any(axis=1)\n",
    "print(\"dropped \", sum(nulls), \" null values\")\n",
    "mammographic = mammographic.dropna()\n",
    "# predict the severity\n",
    "mammographic"
   ],
   "metadata": {
    "collapsed": false,
    "pycharm": {
     "name": "#%%\n"
    }
   }
  },
  {
   "cell_type": "code",
   "execution_count": 5,
   "outputs": [
    {
     "data": {
      "text/plain": "<Figure size 640x480 with 1 Axes>",
      "image/png": "[encoded data removed]"
     },
     "metadata": {},
     "output_type": "display_data"
    }
   ],
   "source": [
    "plt.figure()\n",
    "plt.boxplot(mammographic)\n",
    "plt.xticks(range(1, 6), ['Age', 'Shape', 'Margin', 'Density', 'Severity'])\n",
    "plt.show()"
   ],
   "metadata": {
    "collapsed": false,
    "pycharm": {
     "name": "#%%\n"
    }
   }
  },
  {
   "cell_type": "code",
   "execution_count": 6,
   "outputs": [],
   "source": [
    "mammographic_train_data = mammographic[:600]\n",
    "mammographic_valid_data = mammographic[600:750]\n",
    "mammographic_test_data = mammographic[750:]\n",
    "\n",
    "mammographic_train_x = mammographic_train_data[mammographic_train_data.columns[:4]]\n",
    "mammographic_train_y = mammographic_train_data[mammographic_train_data.columns[4]]\n",
    "\n",
    "mammographic_valid_x = mammographic_valid_data[mammographic_valid_data.columns[:4]]\n",
    "mammographic_valid_y = mammographic_valid_data[mammographic_valid_data.columns[4]]\n",
    "\n",
    "mammographic_test_x = mammographic_test_data[mammographic_test_data.columns[:4]]\n",
    "mammographic_test_y = mammographic_test_data[mammographic_test_data.columns[4]]"
   ],
   "metadata": {
    "collapsed": false,
    "pycharm": {
     "name": "#%%\n"
    }
   }
  },
  {
   "cell_type": "code",
   "execution_count": 7,
   "outputs": [],
   "source": [
    "feature_normalizer = AverageNormalizer2D()\n",
    "target_normalizer = AverageNormalizer2D()\n",
    "\n",
    "feature_normalizer.calculate(mammographic_train_x.to_numpy())\n",
    "target_normalizer.calculate(mammographic_train_y.to_numpy())\n",
    "\n",
    "mammographic_train_x2 = feature_normalizer.normalize(mammographic_train_x.to_numpy())\n",
    "mammographic_train_y2 = target_normalizer.normalize(mammographic_train_y.to_numpy())\n",
    "\n",
    "mammographic_valid_x2 = feature_normalizer.normalize(mammographic_valid_x.to_numpy())\n",
    "mammographic_valid_y2 = target_normalizer.normalize(mammographic_valid_y.to_numpy())\n",
    "\n",
    "mammographic_test_x2 = feature_normalizer.normalize(mammographic_test_x.to_numpy())\n",
    "mammographic_test_y2 = target_normalizer.normalize(mammographic_test_y.to_numpy())"
   ],
   "metadata": {
    "collapsed": false,
    "pycharm": {
     "name": "#%%\n"
    }
   }
  },
  {
   "cell_type": "code",
   "execution_count": 8,
   "outputs": [
    {
     "name": "stdout",
     "output_type": "stream",
     "text": [
      "Plotting normalized train x\n"
     ]
    },
    {
     "data": {
      "text/plain": "<Figure size 640x480 with 1 Axes>",
      "image/png": "[encoded data removed]"
     },
     "metadata": {},
     "output_type": "display_data"
    }
   ],
   "source": [
    "print(\"Plotting normalized train x\")\n",
    "plt.figure()\n",
    "plt.boxplot(mammographic_train_x2)\n",
    "plt.xticks(range(1, 5), ['Age', 'Shape', 'Margin', 'Density'])\n",
    "plt.show()"
   ],
   "metadata": {
    "collapsed": false,
    "pycharm": {
     "name": "#%%\n"
    }
   }
  },
  {
   "cell_type": "code",
   "execution_count": 9,
   "outputs": [
    {
     "name": "stdout",
     "output_type": "stream",
     "text": [
      "loading machine dataset\n"
     ]
    },
    {
     "data": {
      "text/plain": "     MYCT  MMIN   MMAX  CACH  CHMIN  CHMAX  PRP\n0     125   256   6000   256     16    128  198\n1      29  8000  32000    32      8     32  269\n2      29  8000  32000    32      8     32  220\n3      29  8000  32000    32      8     32  172\n4      29  8000  16000    32      8     16  132\n..    ...   ...    ...   ...    ...    ...  ...\n204   124  1000   8000     0      1      8   42\n205    98  1000   8000    32      2      8   46\n206   125  2000   8000     0      2     14   52\n207   480   512   8000    32      0      0   67\n208   480  1000   4000     0      0      0   45\n\n[209 rows x 7 columns]",
      "text/html": "<div>\n<style scoped>\n    .dataframe tbody tr th:only-of-type {\n        vertical-align: middle;\n    }\n\n    .dataframe tbody tr th {\n        vertical-align: top;\n    }\n\n    .dataframe thead th {\n        text-align: right;\n    }\n</style>\n<table border=\"1\" class=\"dataframe\">\n  <thead>\n    <tr style=\"text-align: right;\">\n      <th></th>\n      <th>MYCT</th>\n      <th>MMIN</th>\n      <th>MMAX</th>\n      <th>CACH</th>\n      <th>CHMIN</th>\n      <th>CHMAX</th>\n      <th>PRP</th>\n    </tr>\n  </thead>\n  <tbody>\n    <tr>\n      <th>0</th>\n      <td>125</td>\n      <td>256</td>\n      <td>6000</td>\n      <td>256</td>\n      <td>16</td>\n      <td>128</td>\n      <td>198</td>\n    </tr>\n    <tr>\n      <th>1</th>\n      <td>29</td>\n      <td>8000</td>\n      <td>32000</td>\n      <td>32</td>\n      <td>8</td>\n      <td>32</td>\n      <td>269</td>\n    </tr>\n    <tr>\n      <th>2</th>\n      <td>29</td>\n      <td>8000</td>\n      <td>32000</td>\n      <td>32</td>\n      <td>8</td>\n      <td>32</td>\n      <td>220</td>\n    </tr>\n    <tr>\n      <th>3</th>\n      <td>29</td>\n      <td>8000</td>\n      <td>32000</td>\n      <td>32</td>\n      <td>8</td>\n      <td>32</td>\n      <td>172</td>\n    </tr>\n    <tr>\n      <th>4</th>\n      <td>29</td>\n      <td>8000</td>\n      <td>16000</td>\n      <td>32</td>\n      <td>8</td>\n      <td>16</td>\n      <td>132</td>\n    </tr>\n    <tr>\n      <th>...</th>\n      <td>...</td>\n      <td>...</td>\n      <td>...</td>\n      <td>...</td>\n      <td>...</td>\n      <td>...</td>\n      <td>...</td>\n    </tr>\n    <tr>\n      <th>204</th>\n      <td>124</td>\n      <td>1000</td>\n      <td>8000</td>\n      <td>0</td>\n      <td>1</td>\n      <td>8</td>\n      <td>42</td>\n    </tr>\n    <tr>\n      <th>205</th>\n      <td>98</td>\n      <td>1000</td>\n      <td>8000</td>\n      <td>32</td>\n      <td>2</td>\n      <td>8</td>\n      <td>46</td>\n    </tr>\n    <tr>\n      <th>206</th>\n      <td>125</td>\n      <td>2000</td>\n      <td>8000</td>\n      <td>0</td>\n      <td>2</td>\n      <td>14</td>\n      <td>52</td>\n    </tr>\n    <tr>\n      <th>207</th>\n      <td>480</td>\n      <td>512</td>\n      <td>8000</td>\n      <td>32</td>\n      <td>0</td>\n      <td>0</td>\n      <td>67</td>\n    </tr>\n    <tr>\n      <th>208</th>\n      <td>480</td>\n      <td>1000</td>\n      <td>4000</td>\n      <td>0</td>\n      <td>0</td>\n      <td>0</td>\n      <td>45</td>\n    </tr>\n  </tbody>\n</table>\n<p>209 rows × 7 columns</p>\n</div>"
     },
     "execution_count": 9,
     "metadata": {},
     "output_type": "execute_result"
    }
   ],
   "source": [
    "# with open(\"./machines/machine.names\") as file:\n",
    "#     names = file.read()\n",
    "print(\"loading machine dataset\")\n",
    "machines = pd.read_csv(\"./machines/machine.data\",\n",
    "                       names=['vendor_name', 'model_name', 'MYCT', 'MMIN', 'MMAX', 'CACH', 'CHMIN', 'CHMAX', 'PRP',\n",
    "                              'ERP'], usecols=['MYCT', 'MMIN', 'MMAX', 'CACH', 'CHMIN', 'CHMAX', 'PRP'])\n",
    "\n",
    "# print(f\"Found {len(machines['vendor_name'].unique())} unique values in vendor_name\")\n",
    "# machines['vendor_name'] = pd.factorize(machines['vendor_name'])[0]\n",
    "machines\n",
    "# predict the prp"
   ],
   "metadata": {
    "collapsed": false,
    "pycharm": {
     "name": "#%%\n"
    }
   }
  },
  {
   "cell_type": "code",
   "execution_count": 10,
   "outputs": [
    {
     "data": {
      "text/plain": "<Figure size 640x480 with 1 Axes>",
      "image/png": "[encoded data removed]"
     },
     "metadata": {},
     "output_type": "display_data"
    }
   ],
   "source": [
    "plt.figure()\n",
    "plt.boxplot(machines)\n",
    "plt.xticks(range(1, 8), ['MYCT', 'MMIN', 'MMAX', 'CACH', 'CHMIN', 'CHMAX', 'PRP'])\n",
    "plt.show()"
   ],
   "metadata": {
    "collapsed": false,
    "pycharm": {
     "name": "#%%\n"
    }
   }
  },
  {
   "cell_type": "code",
   "execution_count": 11,
   "outputs": [],
   "source": [
    "machines_train_data = machines[:130]\n",
    "machines_valid_data = machines[130:185]\n",
    "machines_test_data = machines[185:]\n",
    "\n",
    "machines_train_x = machines_train_data[machines_train_data.columns[:-1]]\n",
    "machines_train_y = machines_train_data[machines_train_data.columns[-1]]\n",
    "\n",
    "machines_valid_x = machines_valid_data[machines_valid_data.columns[:-1]]\n",
    "machines_valid_y = machines_valid_data[machines_valid_data.columns[-1]]\n",
    "\n",
    "machines_test_x = machines_test_data[machines_test_data.columns[:-1]]\n",
    "machines_test_y = machines_test_data[machines_test_data.columns[-1]]"
   ],
   "metadata": {
    "collapsed": false,
    "pycharm": {
     "name": "#%%\n"
    }
   }
  },
  {
   "cell_type": "code",
   "execution_count": 12,
   "outputs": [],
   "source": [
    "feature_normalizer2 = AverageNormalizer2D()\n",
    "target_normalizer2 = AverageNormalizer2D()\n",
    "\n",
    "feature_normalizer2.calculate(machines_train_x.to_numpy())\n",
    "target_normalizer2.calculate(machines_train_y.to_numpy())\n",
    "\n",
    "machines_train_x = feature_normalizer2.normalize(machines_train_x.to_numpy())\n",
    "machines_train_y = target_normalizer2.normalize(machines_train_y.to_numpy())\n",
    "\n",
    "machines_valid_x = feature_normalizer2.normalize(machines_valid_x.to_numpy())\n",
    "machines_valid_y = target_normalizer2.normalize(machines_valid_y.to_numpy())\n",
    "\n",
    "machines_test_x = feature_normalizer2.normalize(machines_test_x.to_numpy())\n",
    "machines_test_y = target_normalizer2.normalize(machines_test_y.to_numpy())"
   ],
   "metadata": {
    "collapsed": false,
    "pycharm": {
     "name": "#%%\n"
    }
   }
  },
  {
   "cell_type": "code",
   "execution_count": 13,
   "outputs": [
    {
     "name": "stdout",
     "output_type": "stream",
     "text": [
      "Plotting normalized train x\n"
     ]
    },
    {
     "data": {
      "text/plain": "<Figure size 640x480 with 1 Axes>",
      "image/png": "[encoded data removed]"
     },
     "metadata": {},
     "output_type": "display_data"
    }
   ],
   "source": [
    "print(\"Plotting normalized train x\")\n",
    "plt.figure()\n",
    "plt.boxplot(machines_train_x)\n",
    "plt.xticks(range(1, 7), ['MYCT', 'MMIN', 'MMAX', 'CACH', 'CHMIN', 'CHMAX'])\n",
    "plt.show()"
   ],
   "metadata": {
    "collapsed": false,
    "pycharm": {
     "name": "#%%\n"
    }
   }
  },
  {
   "cell_type": "markdown",
   "metadata": {
    "pycharm": {
     "name": "#%% md\n"
    }
   },
   "source": [
    "### Task 2: Implement baseline model of your choice (1 classification + 1 regression) for each of the two datasets\n",
    "```python\n",
    "# baseline = YourAlgorithm()\n",
    "# baseline.learn(features_train, labels_train)\n",
    "```"
   ]
  },
  {
   "cell_type": "markdown",
   "source": [],
   "metadata": {
    "collapsed": false,
    "pycharm": {
     "name": "#%% md\n"
    }
   }
  },
  {
   "cell_type": "code",
   "execution_count": 14,
   "outputs": [
    {
     "name": "stdout",
     "output_type": "stream",
     "text": [
      "Using Linear Classifier\n",
      "metrics for validation dataset\n",
      "Accuracy = 84.66666666666667\n",
      "Precision = 0.8082191780821918\n",
      "Recall = 0.8676470588235294\n",
      "F1 = 0.8368794326241135\n"
     ]
    }
   ],
   "source": [
    "print(\"Using Linear Classifier\")\n",
    "lr_analytic = LinearRegressionAnalytic()\n",
    "# this model has internal feature normalizer, so we feed it the input before normalization\n",
    "lr_analytic.learn(mammographic_train_x, mammographic_train_y)\n",
    "predicted_analytic = lr_analytic.infer(mammographic_valid_x)\n",
    "print(\"metrics for validation dataset\")\n",
    "print_classification_metrics(predicted_analytic.round(), mammographic_valid_y)"
   ],
   "metadata": {
    "collapsed": false,
    "pycharm": {
     "name": "#%%\n"
    }
   }
  },
  {
   "cell_type": "code",
   "execution_count": 15,
   "outputs": [
    {
     "name": "stdout",
     "output_type": "stream",
     "text": [
      "Using SVM\n",
      "metrics for validation dataset\n",
      "Accuracy = 72.0\n",
      "Precision = 0.6547619047619048\n",
      "Recall = 0.8088235294117647\n",
      "F1 = 0.7236842105263157\n"
     ]
    }
   ],
   "source": [
    "print(\"Using SVM\")\n",
    "\n",
    "model = SVM(1)\n",
    "model.learn(mammographic_train_x2, mammographic_train_y2)\n",
    "# print_classification_metrics(predicted_analytic.round(), mammographic_valid_y)\n",
    "\n",
    "def sign(value):\n",
    "    return 0 if value <= 0 else 1.\n",
    "\n",
    "predicted_analytic = []\n",
    "for x in mammographic_valid_x2:\n",
    "    predicted_analytic.append(sign(model.infer(x)))\n",
    "print(\"metrics for validation dataset\")\n",
    "print_classification_metrics(predicted_analytic, mammographic_valid_y)"
   ],
   "metadata": {
    "collapsed": false,
    "pycharm": {
     "name": "#%%\n"
    }
   }
  },
  {
   "cell_type": "markdown",
   "source": [
    "#### Subtask 2"
   ],
   "metadata": {
    "collapsed": false,
    "pycharm": {
     "name": "#%% md\n"
    }
   }
  },
  {
   "cell_type": "code",
   "execution_count": 16,
   "outputs": [
    {
     "name": "stdout",
     "output_type": "stream",
     "text": [
      "Using Linear Regression\n",
      "metrics for validation dataset\n",
      "MAE = 0.20470121983800013\n",
      "RMSE = 0.45243918910501124\n",
      "R2 = 0.6731996090916794\n"
     ]
    }
   ],
   "source": [
    "print(\"Using Linear Regression\")\n",
    "\n",
    "lr_analytic2 = LinearRegressionAnalytic()\n",
    "lr_analytic2.learn(machines_train_x, machines_train_y)\n",
    "predicted_analytic = lr_analytic2.infer(machines_valid_x)\n",
    "print(\"metrics for validation dataset\")\n",
    "print_regression_metrics(predicted_analytic, machines_valid_y)"
   ],
   "metadata": {
    "collapsed": false,
    "pycharm": {
     "name": "#%%\n"
    }
   }
  },
  {
   "cell_type": "code",
   "execution_count": 17,
   "outputs": [
    {
     "name": "stdout",
     "output_type": "stream",
     "text": [
      "Using Logistic Regression\n",
      "metrics for validation dataset\n",
      "MAE = 1.6454454962030194\n",
      "RMSE = 1.2827491945828768\n",
      "R2 = -1.6269126867101318\n"
     ]
    }
   ],
   "source": [
    "print(\"Using Logistic Regression\")\n",
    "\n",
    "lr_analytic4 = LogisticRegression()\n",
    "lr_analytic4.learn(machines_train_x, machines_train_y)\n",
    "predicted_analytic = lr_analytic4.infer(machines_valid_x)\n",
    "print(\"metrics for validation dataset\")\n",
    "print_regression_metrics(predicted_analytic, machines_valid_y)"
   ],
   "metadata": {
    "collapsed": false,
    "pycharm": {
     "name": "#%%\n"
    }
   }
  },
  {
   "cell_type": "markdown",
   "metadata": {
    "pycharm": {
     "name": "#%% md\n"
    }
   },
   "source": [
    "### Task 3: Evaluate your baseline models on test set: \n",
    "Use accuracy, precision and recall for classification, and R2 score and MAE/RMSE for regression\n",
    "```python\n",
    "# baseline_predicted = model_baseline.infer(features_test)\n",
    "# evaluate_fn(baseline_predicted, labels_test)\n",
    "```"
   ]
  },
  {
   "cell_type": "markdown",
   "source": [],
   "metadata": {
    "collapsed": false,
    "pycharm": {
     "name": "#%% md\n"
    }
   }
  },
  {
   "cell_type": "markdown",
   "source": [
    "#### Subtask 1\n"
   ],
   "metadata": {
    "collapsed": false,
    "pycharm": {
     "name": "#%% md\n"
    }
   }
  },
  {
   "cell_type": "code",
   "execution_count": 18,
   "outputs": [
    {
     "name": "stdout",
     "output_type": "stream",
     "text": [
      "Using Linear Classifier\n",
      "metrics for test dataset\n",
      "Accuracy = 75.30864197530865\n",
      "Precision = 0.7083333333333334\n",
      "Recall = 0.85\n",
      "F1 = 0.7727272727272727\n"
     ]
    }
   ],
   "source": [
    "print(\"Using Linear Classifier\")\n",
    "\n",
    "predicted_analytic = lr_analytic.infer(mammographic_test_x)\n",
    "print(\"metrics for test dataset\")\n",
    "print_classification_metrics(predicted_analytic.round(), mammographic_test_y)"
   ],
   "metadata": {
    "collapsed": false,
    "pycharm": {
     "name": "#%%\n"
    }
   }
  },
  {
   "cell_type": "code",
   "execution_count": 19,
   "outputs": [
    {
     "name": "stdout",
     "output_type": "stream",
     "text": [
      "Using SVM\n",
      "metrics for validation dataset\n",
      "Accuracy = 61.72839506172839\n",
      "Precision = 0.6046511627906976\n",
      "Recall = 0.65\n",
      "F1 = 0.6265060240963854\n"
     ]
    }
   ],
   "source": [
    "print(\"Using SVM\")\n",
    "\n",
    "predicted_analytic = []\n",
    "for x in mammographic_test_x2:\n",
    "    predicted_analytic.append(sign(model.infer(x)))\n",
    "print(\"metrics for validation dataset\")\n",
    "print_classification_metrics(predicted_analytic, mammographic_test_y)"
   ],
   "metadata": {
    "collapsed": false,
    "pycharm": {
     "name": "#%%\n"
    }
   }
  },
  {
   "cell_type": "markdown",
   "source": [
    "#### Subtask 2"
   ],
   "metadata": {
    "collapsed": false,
    "pycharm": {
     "name": "#%% md\n"
    }
   }
  },
  {
   "cell_type": "code",
   "execution_count": 20,
   "outputs": [
    {
     "name": "stdout",
     "output_type": "stream",
     "text": [
      "Using Linear Regression\n",
      "metrics for test dataset\n",
      "MAE = 1.6821842002025893\n",
      "RMSE = 1.296990439518576\n",
      "R2 = 0.5577345143553731\n"
     ]
    }
   ],
   "source": [
    "print(\"Using Linear Regression\")\n",
    "\n",
    "predicted_analytic = lr_analytic2.infer(machines_test_x)\n",
    "print(\"metrics for test dataset\")\n",
    "print_regression_metrics(predicted_analytic, machines_test_y)"
   ],
   "metadata": {
    "collapsed": false,
    "pycharm": {
     "name": "#%%\n"
    }
   }
  },
  {
   "cell_type": "code",
   "execution_count": 21,
   "outputs": [
    {
     "name": "stdout",
     "output_type": "stream",
     "text": [
      "Using Logistic Regression\n",
      "metrics for validation dataset\n",
      "MAE = 5.205398357939447\n",
      "RMSE = 2.281534211433054\n",
      "R2 = -0.36855882516942984\n"
     ]
    }
   ],
   "source": [
    "print(\"Using Logistic Regression\")\n",
    "\n",
    "predicted_analytic = lr_analytic4.infer(machines_test_x)\n",
    "print(\"metrics for validation dataset\")\n",
    "print_regression_metrics(predicted_analytic, machines_test_y)"
   ],
   "metadata": {
    "collapsed": false,
    "pycharm": {
     "name": "#%%\n"
    }
   }
  },
  {
   "cell_type": "markdown",
   "metadata": {
    "pycharm": {
     "name": "#%% md\n"
    }
   },
   "source": [
    "### Task 4: Implement and train the following methods:\n",
    "\n",
    "    a) Logistic Regression for classification \n",
    "    b) ANN for regression\n",
    "    \n",
    "- Use one fixed train-validation-test split consistently for all experiments\n",
    "- Report the same metrics used for the baselines on the test set."
   ]
  },
  {
   "cell_type": "markdown",
   "source": [
    "#### Subtask 1"
   ],
   "metadata": {
    "collapsed": false,
    "pycharm": {
     "name": "#%% md\n"
    }
   }
  },
  {
   "cell_type": "code",
   "execution_count": 22,
   "outputs": [
    {
     "name": "stdout",
     "output_type": "stream",
     "text": [
      "metrics for validation dataset\n",
      "Accuracy = 81.33333333333333\n",
      "Precision = 0.7564102564102564\n",
      "Recall = 0.8676470588235294\n",
      "F1 = 0.8082191780821918\n"
     ]
    }
   ],
   "source": [
    "lr_analytic3 = LogisticRegression()\n",
    "lr_analytic3.learn(mammographic_train_x2, mammographic_train_y2, learning_rate=0.001, iterations=100)\n",
    "predicted_analytic = lr_analytic3.infer(mammographic_valid_x2)\n",
    "print(\"metrics for validation dataset\")\n",
    "print_classification_metrics(predicted_analytic.round(), mammographic_valid_y)"
   ],
   "metadata": {
    "collapsed": false,
    "pycharm": {
     "name": "#%%\n"
    }
   }
  },
  {
   "cell_type": "code",
   "execution_count": 23,
   "outputs": [
    {
     "name": "stdout",
     "output_type": "stream",
     "text": [
      "metrics for test dataset\n",
      "Accuracy = 71.60493827160494\n",
      "Precision = 0.673469387755102\n",
      "Recall = 0.825\n",
      "F1 = 0.7415730337078652\n"
     ]
    }
   ],
   "source": [
    "predicted_analytic = lr_analytic3.infer(mammographic_test_x2)\n",
    "print(\"metrics for test dataset\")\n",
    "print_classification_metrics(predicted_analytic.round(), mammographic_test_y)"
   ],
   "metadata": {
    "collapsed": false,
    "pycharm": {
     "name": "#%%\n"
    }
   }
  },
  {
   "cell_type": "markdown",
   "source": [
    "#### Subtask 2"
   ],
   "metadata": {
    "collapsed": false,
    "pycharm": {
     "name": "#%% md\n"
    }
   }
  },
  {
   "cell_type": "code",
   "execution_count": 24,
   "outputs": [
    {
     "name": "stdout",
     "output_type": "stream",
     "text": [
      "Number of parameters: 511\n",
      "Cost at epoch 0 is 0.6006643354687662\n",
      "Cost at epoch 1 is 0.6000893794646532\n",
      "Cost at epoch 2 is 0.5995317133946062\n",
      "Cost at epoch 3 is 0.5989907100313272\n",
      "Cost at epoch 4 is 0.5984672774525893\n",
      "Cost at epoch 5 is 0.5979603558094029\n",
      "Cost at epoch 6 is 0.5974710539388026\n",
      "Cost at epoch 7 is 0.5970000966260732\n",
      "Cost at epoch 8 is 0.5965480436842797\n",
      "Cost at epoch 9 is 0.5961154966908204\n"
     ]
    }
   ],
   "source": [
    "from tqdm import tqdm\n",
    "from functools import partialmethod\n",
    "\n",
    "tqdm.__init__ = partialmethod(tqdm.__init__, disable=True)\n",
    "\n",
    "LEARNING_RATE = 0.001\n",
    "LAMBDA = 1\n",
    "EPOCHS = 10\n",
    "\n",
    "def create_model(learning_rate, lambda_value, input_shape=6, hidden_layer1 = 10, hidden_layer2=20, hidden_layer3=10, output_shape=1):\n",
    "    nn_model = NeuralNetworkModel()\n",
    "    class Softmax(ActivationFunctionsForNN.BaseActivationFunctionForNN):\n",
    "        def __init__(self):\n",
    "            pass\n",
    "\n",
    "        def forward(self, value):\n",
    "            return np.exp(value) / np.sum(np.exp(value))\n",
    "\n",
    "        def backward(self, value):\n",
    "            return value\n",
    "\n",
    "\n",
    "    layer0 = FlattenLayer()\n",
    "    layer1 = LinearLayer(input_shape=input_shape, output_shape=hidden_layer1, learning_rate=learning_rate, lambda_regularization=lambda_value)\n",
    "    layer2 = LinearLayer(input_shape=hidden_layer1, output_shape=hidden_layer2, learning_rate=learning_rate, lambda_regularization=lambda_value)\n",
    "    layer3 = LinearLayer(input_shape=hidden_layer2, output_shape=hidden_layer3, learning_rate=learning_rate, lambda_regularization=lambda_value)\n",
    "    layer4 = LinearLayer(input_shape=hidden_layer3, output_shape=output_shape, learning_rate=learning_rate, lambda_regularization=lambda_value, activation_function=Softmax())\n",
    "\n",
    "    nn_model.add_layer(layer0)\n",
    "    nn_model.add_layer(layer1)\n",
    "    nn_model.add_layer(layer2)\n",
    "    nn_model.add_layer(layer3)\n",
    "    nn_model.add_layer(layer4)\n",
    "    return nn_model\n",
    "\n",
    "def predict_nn(features, nn_model):\n",
    "    result = []\n",
    "    for j in range(features.shape[0]):\n",
    "        yhat = nn_model.infer(features[j])\n",
    "        result.append(yhat)\n",
    "    return result\n",
    "\n",
    "nn = create_model(LEARNING_RATE, LAMBDA)\n",
    "print(f'Number of parameters: {nn.get_number_of_parameters()}')\n",
    "costs = nn.learn(machines_train_x, machines_train_y, EPOCHS, 20)"
   ],
   "metadata": {
    "collapsed": false,
    "pycharm": {
     "name": "#%%\n"
    }
   }
  },
  {
   "cell_type": "code",
   "execution_count": 25,
   "outputs": [
    {
     "name": "stdout",
     "output_type": "stream",
     "text": [
      "metrics for validation dataset\n",
      "MAE = 1.6138414316203407\n",
      "RMSE = 1.270370588301044\n",
      "R2 = -140.70516723067223\n"
     ]
    }
   ],
   "source": [
    "predicted_analytic = predict_nn(machines_valid_x, nn)\n",
    "print(\"metrics for validation dataset\")\n",
    "print_regression_metrics(predicted_analytic, machines_valid_y)"
   ],
   "metadata": {
    "collapsed": false,
    "pycharm": {
     "name": "#%%\n"
    }
   }
  },
  {
   "cell_type": "code",
   "execution_count": 26,
   "outputs": [
    {
     "name": "stdout",
     "output_type": "stream",
     "text": [
      "metrics for test dataset\n",
      "MAE = 3.8529657025193607\n",
      "RMSE = 1.9628972725334763\n",
      "R2 = -23.311731103762767\n"
     ]
    }
   ],
   "source": [
    "predicted_analytic = predict_nn(machines_test_x, nn)\n",
    "print(\"metrics for test dataset\")\n",
    "print_regression_metrics(predicted_analytic, machines_test_y)"
   ],
   "metadata": {
    "collapsed": false,
    "pycharm": {
     "name": "#%%\n"
    }
   }
  },
  {
   "cell_type": "markdown",
   "metadata": {
    "pycharm": {
     "name": "#%% md\n"
    }
   },
   "source": [
    "### Task 5: Hyperparameter Optimisation\n",
    "- For each of the models implemented in Task 4, conduct a grid search in reasonable ranges to find an appropriate set of hyperparameters, and justify the choice.\n",
    "\n",
    "```python\n",
    "# possible_hp_values = np.arange(1, 10, 0.1)\n",
    "# best_hp_value = None\n",
    "# best_f1_score = -np.infty\n",
    "# for hp_value in possible_hp_values:\n",
    "#     # 1. create a baseline classifier object with hp_value specified\n",
    "#     current_model = YourAlgorithm(hyperparam=hp_value)\n",
    "#\n",
    "#     # 2. learn the classifier on the training set\n",
    "#     current_model.learn(features_train, labels_train)\n",
    "#\n",
    "#     # 3. evaluate the model on the validation set\n",
    "#     prediction = current_model.infer(features_valid)\n",
    "#\n",
    "#     f1_score = compute_f1(labels_valid, prediction)\n",
    "#     if f1_score > best_f1_score:\n",
    "#         best_f1_score = f1_score\n",
    "#         best_hp_value = hp_value\n",
    "#\n",
    "# print(\"Found hyperparameter value\", best_hp_value)\n",
    "# print(\"Best f1-score on validation set\", best_f1_score)\n",
    "#\n",
    "# test_model = YourAlgorithm(hyperparam=best_hp_value)\n",
    "# test_model.learn(features_train, labels_train)\n",
    "# prediction = test_model.infer(features_test)\n",
    "# test_f1_score = compute_f1(labels_test, prediction)\n",
    "# print(\"F1-Score on test set\", test_f1_score)\n",
    "```\n"
   ]
  },
  {
   "cell_type": "markdown",
   "source": [
    "#### Subtask 1"
   ],
   "metadata": {
    "collapsed": false,
    "pycharm": {
     "name": "#%% md\n"
    }
   }
  },
  {
   "cell_type": "code",
   "execution_count": 27,
   "outputs": [
    {
     "name": "stdout",
     "output_type": "stream",
     "text": [
      "Running with the following hyper parameter:  [0.1, 5]\n",
      "Accuracy = 38.0\n",
      "Precision = 0.3076923076923077\n",
      "Recall = 0.29411764705882354\n",
      "F1 = 0.3007518796992481\n",
      "\n",
      "Running with the following hyper parameter:  [0.001, 100]\n",
      "Accuracy = 81.33333333333333\n",
      "Precision = 0.7564102564102564\n",
      "Recall = 0.8676470588235294\n",
      "F1 = 0.8082191780821918\n",
      "\n",
      "Running with the following hyper parameter:  [0.1, 100]\n",
      "Accuracy = 30.0\n",
      "Precision = 0.20634920634920634\n",
      "Recall = 0.19117647058823528\n",
      "F1 = 0.19847328244274806\n",
      "\n",
      "Best hyper parameter is:  [0.001, 100]\n",
      "Accuracy = 71.60493827160494\n",
      "Precision = 0.673469387755102\n",
      "Recall = 0.825\n",
      "F1 = 0.7415730337078652\n"
     ]
    }
   ],
   "source": [
    "best_hyper_parameter= None\n",
    "best_f1_score = -1\n",
    "hyper_parameters = [[0.1, 5], [0.001, 100], [0.1, 100]]\n",
    "for hyper_parameter in hyper_parameters:\n",
    "    print(\"Running with the following hyper parameter: \",  hyper_parameter)\n",
    "    lr_analytic3 = LogisticRegression()\n",
    "    lr_analytic3.learn(mammographic_train_x2, mammographic_train_y2, learning_rate=hyper_parameter[0], iterations=hyper_parameter[1])\n",
    "    predicted_analytic = lr_analytic3.infer(mammographic_valid_x2)\n",
    "    _, _, _, f1 = calculate_classification_metrics(predicted_analytic.round(), mammographic_valid_y)\n",
    "    print_classification_metrics(predicted_analytic.round(), mammographic_valid_y)\n",
    "    print(\"\")\n",
    "\n",
    "    if f1 > best_f1_score:\n",
    "        best_f1_score = f1\n",
    "        best_hyper_parameter = hyper_parameter\n",
    "\n",
    "print(\"Best hyper parameter is: \", best_hyper_parameter)\n",
    "lr_analytic3 = LogisticRegression()\n",
    "lr_analytic3.learn(mammographic_train_x2, mammographic_train_y2, learning_rate=best_hyper_parameter[0], iterations=best_hyper_parameter[1])\n",
    "predicted_analytic = lr_analytic3.infer(mammographic_test_x2)\n",
    "print_classification_metrics(predicted_analytic.round(), mammographic_test_y)"
   ],
   "metadata": {
    "collapsed": false,
    "pycharm": {
     "name": "#%%\n"
    }
   }
  },
  {
   "cell_type": "markdown",
   "source": [
    "We can see that increasing the number of epochs and decreasing the learning rate improves the performance of the model"
   ],
   "metadata": {
    "collapsed": false,
    "pycharm": {
     "name": "#%% md\n"
    }
   }
  },
  {
   "cell_type": "markdown",
   "source": [
    "#### Subtask 2"
   ],
   "metadata": {
    "collapsed": false,
    "pycharm": {
     "name": "#%% md\n"
    }
   }
  },
  {
   "cell_type": "code",
   "execution_count": 28,
   "outputs": [
    {
     "name": "stdout",
     "output_type": "stream",
     "text": [
      "Running with the following hyper parameter:  [0.1, 20, 10, 10, 10]\n",
      "Cost at epoch 0 is 0.524872491504883\n",
      "Cost at epoch 1 is nan\n",
      "Cost at epoch 2 is nan\n",
      "Cost at epoch 3 is nan\n"
     ]
    },
    {
     "name": "stderr",
     "output_type": "stream",
     "text": [
      "E:\\miniconda3\\envs\\main\\lib\\site-packages\\ipykernel_launcher.py:17: RuntimeWarning: invalid value encountered in true_divide\n"
     ]
    },
    {
     "name": "stdout",
     "output_type": "stream",
     "text": [
      "Cost at epoch 4 is nan\n",
      "Cost at epoch 5 is nan\n",
      "Cost at epoch 6 is nan\n",
      "Cost at epoch 7 is nan\n",
      "Cost at epoch 8 is nan\n",
      "Cost at epoch 9 is nan\n",
      "Cost at epoch 10 is nan\n",
      "Cost at epoch 11 is nan\n",
      "Cost at epoch 12 is nan\n",
      "Cost at epoch 13 is nan\n",
      "Cost at epoch 14 is nan\n",
      "Cost at epoch 15 is nan\n",
      "Cost at epoch 16 is nan\n",
      "Cost at epoch 17 is nan\n",
      "Cost at epoch 18 is nan\n",
      "Cost at epoch 19 is nan\n",
      "MAE = nan\n",
      "RMSE = nan\n",
      "R2 = nan\n",
      "\n",
      "Running with the following hyper parameter:  [0.001, 20, 10, 10, 10]\n",
      "Cost at epoch 0 is 0.497118945161479\n",
      "Cost at epoch 1 is 0.4967476478084968\n",
      "Cost at epoch 2 is 0.4963812060652109\n",
      "Cost at epoch 3 is 0.4960199822607839\n",
      "Cost at epoch 4 is 0.49566424612659477\n",
      "Cost at epoch 5 is 0.4953143198720839\n",
      "Cost at epoch 6 is 0.49497017060158693\n",
      "Cost at epoch 7 is 0.49463143780216606\n",
      "Cost at epoch 8 is 0.4942989878731964\n",
      "Cost at epoch 9 is 0.4939736398633077\n",
      "Cost at epoch 10 is 0.49365573711579414\n",
      "Cost at epoch 11 is 0.4933444308084038\n",
      "Cost at epoch 12 is 0.493040376895457\n",
      "Cost at epoch 13 is 0.49274408260998237\n",
      "Cost at epoch 14 is 0.4924550620150697\n",
      "Cost at epoch 15 is 0.4921729841041804\n",
      "Cost at epoch 16 is 0.4918986380107586\n",
      "Cost at epoch 17 is 0.49163425950002004\n",
      "Cost at epoch 18 is 0.49138041267311056\n",
      "Cost at epoch 19 is 0.4911362633377946\n",
      "MAE = 1.6138414316203407\n",
      "RMSE = 1.270370588301044\n",
      "R2 = -140.70516723067223\n",
      "\n",
      "Running with the following hyper parameter:  [0.1, 1, 10, 10, 10]\n",
      "Cost at epoch 0 is 0.45434978975697726\n",
      "MAE = 1.6138414316203407\n",
      "RMSE = 1.270370588301044\n",
      "R2 = -140.70516723067223\n",
      "\n",
      "Running with the following hyper parameter:  [0.001, 20, 5, 5, 5]\n",
      "Cost at epoch 0 is 0.19941553370248663\n",
      "Cost at epoch 1 is 0.19929410091545727\n",
      "Cost at epoch 2 is 0.1991767302920944\n",
      "Cost at epoch 3 is 0.19906310708750366\n",
      "Cost at epoch 4 is 0.19895304869924116\n",
      "Cost at epoch 5 is 0.1988469841026734\n",
      "Cost at epoch 6 is 0.19874491467764363\n",
      "Cost at epoch 7 is 0.19864688715472567\n",
      "Cost at epoch 8 is 0.1985532029500438\n",
      "Cost at epoch 9 is 0.19846350577882663\n",
      "Cost at epoch 10 is 0.19837817083123646\n",
      "Cost at epoch 11 is 0.19829695240120163\n",
      "Cost at epoch 12 is 0.1982202124445272\n",
      "Cost at epoch 13 is 0.19814917554365927\n",
      "Cost at epoch 14 is 0.1980834765135265\n",
      "Cost at epoch 15 is 0.19802220458496333\n",
      "Cost at epoch 16 is 0.19796546701218704\n",
      "Cost at epoch 17 is 0.1979131772489585\n",
      "Cost at epoch 18 is 0.19786604110108183\n",
      "Cost at epoch 19 is 0.1978238583568977\n",
      "MAE = 1.6138414316203407\n",
      "RMSE = 1.270370588301044\n",
      "R2 = -140.70516723067223\n",
      "\n",
      "Running with the following hyper parameter:  [0.001, 20, 50, 50, 50]\n",
      "Cost at epoch 0 is 2.307702787297785\n",
      "Cost at epoch 1 is 2.3065718256511807\n",
      "Cost at epoch 2 is 2.305511983278803\n",
      "Cost at epoch 3 is 2.304528857699454\n",
      "Cost at epoch 4 is 2.303625230452073\n",
      "Cost at epoch 5 is 2.302806706827456\n",
      "Cost at epoch 6 is 2.3020874402951246\n",
      "Cost at epoch 7 is 2.301466900369897\n",
      "Cost at epoch 8 is 2.3009515260319966\n",
      "Cost at epoch 9 is 2.300553344720448\n",
      "Cost at epoch 10 is 2.3002548820013713\n",
      "Cost at epoch 11 is 2.300087613335295\n",
      "Cost at epoch 12 is 2.3000515660724563\n",
      "Cost at epoch 13 is 2.300128831390289\n",
      "Cost at epoch 14 is 2.300315648669414\n",
      "Cost at epoch 15 is 2.300749571784147\n",
      "Cost at epoch 16 is 2.301409545016291\n",
      "Cost at epoch 17 is 2.302376299725367\n",
      "Cost at epoch 18 is 2.3037392602580216\n",
      "Cost at epoch 19 is 2.305572414202563\n",
      "MAE = 1.6138414316203407\n",
      "RMSE = 1.270370588301044\n",
      "R2 = -140.70516723067223\n",
      "\n",
      "Running with the following hyper parameter:  [0.1, 1, 5, 5, 5]\n",
      "Cost at epoch 0 is 0.23806412526373508\n",
      "MAE = 1.6138414316203407\n",
      "RMSE = 1.270370588301044\n",
      "R2 = -140.70516723067223\n",
      "\n",
      "Cost at epoch 0 is 0.46086390441244\n",
      "Cost at epoch 1 is 0.4604680889443762\n",
      "Cost at epoch 2 is 0.4600736871192282\n",
      "Cost at epoch 3 is 0.45968166616528866\n",
      "Cost at epoch 4 is 0.4592914107924771\n",
      "Cost at epoch 5 is 0.4589036963677919\n",
      "Cost at epoch 6 is 0.4585189962059488\n",
      "Cost at epoch 7 is 0.45813741565137106\n",
      "Cost at epoch 8 is 0.4577592178857285\n",
      "Cost at epoch 9 is 0.4573842581045122\n",
      "Cost at epoch 10 is 0.4570123951389371\n",
      "Cost at epoch 11 is 0.45664382761907724\n",
      "Cost at epoch 12 is 0.4562786128990962\n",
      "Cost at epoch 13 is 0.455916488898539\n",
      "Cost at epoch 14 is 0.4555574246616123\n",
      "Cost at epoch 15 is 0.45520129110403523\n",
      "Cost at epoch 16 is 0.4548477559016416\n",
      "Cost at epoch 17 is 0.4544966630286922\n",
      "Cost at epoch 18 is 0.4541479456937701\n",
      "Cost at epoch 19 is 0.45380196527758876\n",
      "\n",
      "Best hyper parameter is:  [0.001, 20, 10, 10, 10]\n",
      "MAE = 1.6138414316203407\n",
      "RMSE = 1.270370588301044\n",
      "R2 = -140.70516723067223\n"
     ]
    }
   ],
   "source": [
    "best_hyper_parameter= None\n",
    "best_rme_score = 100\n",
    "hyper_parameters = [[0.1, 20, 10, 10, 10], [0.001, 20, 10, 10, 10], [0.1, 1, 10, 10, 10],\n",
    "                    [0.001, 20, 5, 5, 5], [0.001, 20, 50, 50, 50], [0.1, 1, 5, 5, 5]]\n",
    "for hyper_parameter in hyper_parameters:\n",
    "    print(\"Running with the following hyper parameter: \",  hyper_parameter)\n",
    "    nn = create_model(hyper_parameter[0], 1, hidden_layer1=hyper_parameter[2], hidden_layer2=hyper_parameter[3], hidden_layer3=hyper_parameter[4])\n",
    "    costs = nn.learn(machines_train_x, machines_train_y, hyper_parameter[1], 20)\n",
    "\n",
    "    predicted_analytic = predict_nn(machines_valid_x, nn)\n",
    "    _, rme, _ = calculate_regression_metrics(predicted_analytic, machines_valid_y)\n",
    "    print_regression_metrics(predicted_analytic, machines_valid_y)\n",
    "    print(\"\")\n",
    "\n",
    "    if rme < best_rme_score:\n",
    "        best_rme_score = rme\n",
    "        best_hyper_parameter = hyper_parameter\n",
    "\n",
    "nn = create_model(best_hyper_parameter[0], 1, hidden_layer1=best_hyper_parameter[2], hidden_layer2=best_hyper_parameter[3], hidden_layer3=best_hyper_parameter[4])\n",
    "nn.learn(machines_train_x, machines_train_y, best_hyper_parameter[1], 20)\n",
    "\n",
    "print(\"\")\n",
    "print(\"Best hyper parameter is: \", best_hyper_parameter)\n",
    "predicted_analytic = predict_nn(machines_valid_x, nn)\n",
    "print_regression_metrics(predicted_analytic, machines_valid_y)"
   ],
   "metadata": {
    "collapsed": false,
    "pycharm": {
     "name": "#%%\n"
    }
   }
  },
  {
   "cell_type": "markdown",
   "source": [
    "We can see that increasing the number of epochs and decreasing the learning rate improves the performance of the model\n",
    "\n",
    "We can also see that increasing dimension of hidden layers from 5 to 10 increases the performance but increasing it to 50 doesn't help as it greatly increases the number of parameters, and we don't have enough input to train the model"
   ],
   "metadata": {
    "collapsed": false,
    "pycharm": {
     "name": "#%% md\n"
    }
   }
  },
  {
   "cell_type": "markdown",
   "metadata": {
    "pycharm": {
     "name": "#%% md\n"
    }
   },
   "source": [
    "### Task 6: Statistical/stability tests\n",
    "\n",
    "- over multiple runs $r \\geq 5, r\\in\\mathbb{N}$  randomly shuffle your training data\n",
    "- split it into a train-test, e.g. 90% of the data is for training, 10% for testing\n",
    "- Report the mean and standard deviation of the error/accuracy of your models over the multiple runs\n",
    "- plot a boxplot of the stability of your model"
   ]
  },
  {
   "cell_type": "markdown",
   "source": [
    "#### Subtask 1"
   ],
   "metadata": {
    "collapsed": false,
    "pycharm": {
     "name": "#%% md\n"
    }
   }
  },
  {
   "cell_type": "code",
   "execution_count": 29,
   "outputs": [
    {
     "name": "stdout",
     "output_type": "stream",
     "text": [
      "mean is  74.69135802469135  and standard deviation is  2.882127785167593\n"
     ]
    },
    {
     "data": {
      "text/plain": "<Figure size 640x480 with 1 Axes>",
      "image/png": "[encoded data removed]"
     },
     "metadata": {},
     "output_type": "display_data"
    }
   ],
   "source": [
    "results = []\n",
    "for i in range(10):\n",
    "    temp = mammographic.sample(frac=1)\n",
    "\n",
    "    mammographic_train_data = temp[:750]\n",
    "    mammographic_test_data = temp[750:]\n",
    "\n",
    "    mammographic_train_x = mammographic_train_data[mammographic_train_data.columns[:4]]\n",
    "    mammographic_train_y = mammographic_train_data[mammographic_train_data.columns[4]]\n",
    "\n",
    "    mammographic_test_x = mammographic_test_data[mammographic_test_data.columns[:4]]\n",
    "    mammographic_test_y = mammographic_test_data[mammographic_test_data.columns[4]]\n",
    "\n",
    "    feature_normalizer = AverageNormalizer2D()\n",
    "    target_normalizer = AverageNormalizer2D()\n",
    "\n",
    "    feature_normalizer.calculate(mammographic_train_x.to_numpy())\n",
    "    target_normalizer.calculate(mammographic_train_y.to_numpy())\n",
    "\n",
    "    mammographic_train_x2 = feature_normalizer.normalize(mammographic_train_x.to_numpy())\n",
    "    mammographic_train_y2 = target_normalizer.normalize(mammographic_train_y.to_numpy())\n",
    "\n",
    "    mammographic_test_x2 = feature_normalizer.normalize(mammographic_test_x.to_numpy())\n",
    "    mammographic_test_y2 = target_normalizer.normalize(mammographic_test_y.to_numpy())\n",
    "\n",
    "    lr_analytic3 = LogisticRegression()\n",
    "    lr_analytic3.learn(mammographic_train_x2, mammographic_train_y2, learning_rate=0.001, iterations=100)\n",
    "    predicted_analytic = lr_analytic3.infer(mammographic_test_x2)\n",
    "    accuracy, _, _, _ = calculate_classification_metrics(predicted_analytic.round(), mammographic_test_y)\n",
    "    results.append(accuracy)\n",
    "\n",
    "print(\"mean is \", np.mean(results), \" and standard deviation is \", np.std(results))\n",
    "\n",
    "plt.figure()\n",
    "plt.boxplot(results)\n",
    "plt.show()"
   ],
   "metadata": {
    "collapsed": false,
    "pycharm": {
     "name": "#%%\n"
    }
   }
  },
  {
   "cell_type": "markdown",
   "source": [
    "#### Subtask 2"
   ],
   "metadata": {
    "collapsed": false,
    "pycharm": {
     "name": "#%% md\n"
    }
   }
  },
  {
   "cell_type": "code",
   "execution_count": 30,
   "outputs": [
    {
     "name": "stdout",
     "output_type": "stream",
     "text": [
      "Cost at epoch 0 is 0.40634657576045696\n",
      "Cost at epoch 1 is 0.4059097326769063\n",
      "Cost at epoch 2 is 0.4054825445300398\n",
      "Cost at epoch 3 is 0.4050670499271611\n",
      "Cost at epoch 4 is 0.4046634500288865\n",
      "Cost at epoch 5 is 0.40427249482560357\n",
      "Cost at epoch 6 is 0.40389392084868236\n",
      "Cost at epoch 7 is 0.4035278337832024\n",
      "Cost at epoch 8 is 0.4031741622415322\n",
      "Cost at epoch 9 is 0.4028334754182384\n",
      "MAE = 1.6138414316203407\n",
      "RMSE = 1.270370588301044\n",
      "R2 = -140.70516723067223\n",
      "Cost at epoch 0 is 0.5208178382623884\n",
      "Cost at epoch 1 is 0.5205218761949404\n",
      "Cost at epoch 2 is 0.520280426232883\n",
      "Cost at epoch 3 is 0.5201014571478323\n",
      "Cost at epoch 4 is 0.5199742426109718\n",
      "Cost at epoch 5 is 0.5198792878122644\n",
      "Cost at epoch 6 is 0.5198684488191168\n",
      "Cost at epoch 7 is 0.5199157072093675\n",
      "Cost at epoch 8 is 0.5199520117081\n",
      "Cost at epoch 9 is 0.5200092930846151\n",
      "MAE = 1.6138414316203407\n",
      "RMSE = 1.270370588301044\n",
      "R2 = -140.70516723067223\n",
      "Cost at epoch 0 is 0.42496638300035144\n",
      "Cost at epoch 1 is 0.4247100222222045\n",
      "Cost at epoch 2 is 0.4244674572842868\n",
      "Cost at epoch 3 is 0.4242381422057103\n",
      "Cost at epoch 4 is 0.4240232881596777\n",
      "Cost at epoch 5 is 0.4238229478317127\n",
      "Cost at epoch 6 is 0.42363834781152765\n",
      "Cost at epoch 7 is 0.4234701187944857\n",
      "Cost at epoch 8 is 0.4233132791946431\n",
      "Cost at epoch 9 is 0.4231656113043515\n",
      "MAE = 1.6138414316203407\n",
      "RMSE = 1.270370588301044\n",
      "R2 = -140.70516723067223\n",
      "Cost at epoch 0 is 0.4384371400339047\n",
      "Cost at epoch 1 is 0.4381853053085875\n",
      "Cost at epoch 2 is 0.43794653108065923\n",
      "Cost at epoch 3 is 0.43772201971068464\n",
      "Cost at epoch 4 is 0.43750976197962144\n",
      "Cost at epoch 5 is 0.43731267464138557\n",
      "Cost at epoch 6 is 0.43713031317275697\n",
      "Cost at epoch 7 is 0.43696201922247385\n",
      "Cost at epoch 8 is 0.4368101822443596\n",
      "Cost at epoch 9 is 0.43667603194771326\n",
      "MAE = 1.6138414316203407\n",
      "RMSE = 1.270370588301044\n",
      "R2 = -140.70516723067223\n",
      "Cost at epoch 0 is 0.4924141385688152\n",
      "Cost at epoch 1 is 0.4920609547479346\n",
      "Cost at epoch 2 is 0.4917153021039145\n",
      "Cost at epoch 3 is 0.4913776580877466\n",
      "Cost at epoch 4 is 0.4910484972051736\n",
      "Cost at epoch 5 is 0.49072922856130446\n",
      "Cost at epoch 6 is 0.4904208521115568\n",
      "Cost at epoch 7 is 0.4901261628906369\n",
      "Cost at epoch 8 is 0.48984554310215506\n",
      "Cost at epoch 9 is 0.4895783663727013\n",
      "MAE = 1.6138414316203407\n",
      "RMSE = 1.270370588301044\n",
      "R2 = -140.70516723067223\n",
      "Cost at epoch 0 is 0.4677046857581008\n",
      "Cost at epoch 1 is 0.46726146713616296\n",
      "Cost at epoch 2 is 0.4668394668521712\n",
      "Cost at epoch 3 is 0.4664395459485226\n",
      "Cost at epoch 4 is 0.4660622519076537\n",
      "Cost at epoch 5 is 0.4657077104322867\n",
      "Cost at epoch 6 is 0.4653758422243982\n",
      "Cost at epoch 7 is 0.4650667844264657\n",
      "Cost at epoch 8 is 0.46477980036637584\n",
      "Cost at epoch 9 is 0.4645129697296562\n",
      "MAE = 1.6138414316203407\n",
      "RMSE = 1.270370588301044\n",
      "R2 = -140.70516723067223\n",
      "Cost at epoch 0 is 0.5033536763831694\n",
      "Cost at epoch 1 is 0.5027922897660192\n",
      "Cost at epoch 2 is 0.5022632866256702\n",
      "Cost at epoch 3 is 0.5017675886878016\n",
      "Cost at epoch 4 is 0.5013081613476044\n",
      "Cost at epoch 5 is 0.5008803723013843\n",
      "Cost at epoch 6 is 0.5004863926272876\n",
      "Cost at epoch 7 is 0.5001211623905477\n",
      "Cost at epoch 8 is 0.4997830666302201\n",
      "Cost at epoch 9 is 0.49946817717730424\n",
      "MAE = 1.6138414316203407\n",
      "RMSE = 1.270370588301044\n",
      "R2 = -140.70516723067223\n",
      "Cost at epoch 0 is 0.4312040976935122\n",
      "Cost at epoch 1 is 0.4309269936635846\n",
      "Cost at epoch 2 is 0.4306524791232864\n",
      "Cost at epoch 3 is 0.43038239869402484\n",
      "Cost at epoch 4 is 0.4301172405071415\n",
      "Cost at epoch 5 is 0.42985718612525065\n",
      "Cost at epoch 6 is 0.4296021264890762\n",
      "Cost at epoch 7 is 0.42935254331680806\n",
      "Cost at epoch 8 is 0.4291068924233484\n",
      "Cost at epoch 9 is 0.42886604401805695\n",
      "MAE = 1.6138414316203407\n",
      "RMSE = 1.270370588301044\n",
      "R2 = -140.70516723067223\n",
      "Cost at epoch 0 is 0.4951914343107445\n",
      "Cost at epoch 1 is 0.4949863400644178\n",
      "Cost at epoch 2 is 0.4948003842137512\n",
      "Cost at epoch 3 is 0.49463066679635465\n",
      "Cost at epoch 4 is 0.4944789160862103\n",
      "Cost at epoch 5 is 0.4943467105573449\n",
      "Cost at epoch 6 is 0.4942318462853809\n",
      "Cost at epoch 7 is 0.49413562197055233\n",
      "Cost at epoch 8 is 0.49405507017264677\n",
      "Cost at epoch 9 is 0.49399076323102975\n",
      "MAE = 1.6138414316203407\n",
      "RMSE = 1.270370588301044\n",
      "R2 = -140.70516723067223\n",
      "Cost at epoch 0 is 0.46358414216872795\n",
      "Cost at epoch 1 is 0.463039064701022\n",
      "Cost at epoch 2 is 0.4625073821104364\n",
      "Cost at epoch 3 is 0.4619934074263526\n",
      "Cost at epoch 4 is 0.4614870288210403\n",
      "Cost at epoch 5 is 0.4609943435363121\n",
      "Cost at epoch 6 is 0.46051239238347613\n",
      "Cost at epoch 7 is 0.4600396837865862\n",
      "Cost at epoch 8 is 0.4595752503612178\n",
      "Cost at epoch 9 is 0.459123070258405\n",
      "MAE = 1.6138414316203407\n",
      "RMSE = 1.270370588301044\n",
      "R2 = -140.70516723067223\n"
     ]
    }
   ],
   "source": [
    "results = []\n",
    "for i in range(10):\n",
    "    temp = machines.sample(frac=1)\n",
    "\n",
    "    machines_train_data = temp[:180]\n",
    "    machines_test_data = temp[180:]\n",
    "\n",
    "    machines_train_x = machines_train_data[machines_train_data.columns[:-1]]\n",
    "    machines_train_y = machines_train_data[machines_train_data.columns[-1]]\n",
    "\n",
    "    machines_test_x = machines_test_data[machines_test_data.columns[:-1]]\n",
    "    machines_test_y = machines_test_data[machines_test_data.columns[-1]]\n",
    "\n",
    "    feature_normalizer2 = AverageNormalizer2D()\n",
    "    target_normalizer2 = AverageNormalizer2D()\n",
    "\n",
    "    feature_normalizer2.calculate(machines_train_x.to_numpy())\n",
    "    target_normalizer2.calculate(machines_train_y.to_numpy())\n",
    "\n",
    "    machines_train_x = feature_normalizer2.normalize(machines_train_x.to_numpy())\n",
    "    machines_train_y = target_normalizer2.normalize(machines_train_y.to_numpy())\n",
    "\n",
    "    machines_test_x = feature_normalizer2.normalize(machines_test_x.to_numpy())\n",
    "    machines_test_y = target_normalizer2.normalize(machines_test_y.to_numpy())\n",
    "\n",
    "    nn = create_model(learning_rate=0.001, lambda_value=1.0)\n",
    "    costs = nn.learn(machines_train_x, machines_train_y, 10, 20)\n",
    "\n",
    "    predicted_analytic = predict_nn(machines_valid_x, nn)\n",
    "    _, rme, _ = calculate_regression_metrics(predicted_analytic, machines_valid_y)\n",
    "    if str(rme) != \"nan\":\n",
    "        results.append(rme)\n",
    "    else:\n",
    "        results.appen(10) # set rme to a big number (10) when training the model fails\n",
    "    print_regression_metrics(predicted_analytic, machines_valid_y)"
   ],
   "metadata": {
    "collapsed": false,
    "pycharm": {
     "name": "#%%\n"
    }
   }
  },
  {
   "cell_type": "code",
   "execution_count": 31,
   "outputs": [
    {
     "name": "stdout",
     "output_type": "stream",
     "text": [
      "mean is  1.2703705883010443  and standard deviation is  2.220446049250313e-16\n"
     ]
    },
    {
     "data": {
      "text/plain": "<Figure size 640x480 with 1 Axes>",
      "image/png": "[encoded data removed]"
     },
     "metadata": {},
     "output_type": "display_data"
    }
   ],
   "source": [
    "print(\"mean is \", np.mean(results), \" and standard deviation is \", np.std(results))\n",
    "plt.figure()\n",
    "plt.boxplot(results)\n",
    "plt.show()"
   ],
   "metadata": {
    "collapsed": false,
    "pycharm": {
     "name": "#%%\n"
    }
   }
  },
  {
   "cell_type": "markdown",
   "metadata": {
    "pycharm": {
     "name": "#%% md\n"
    }
   },
   "source": [
    "### BONUS Task: Train the Neural Network with a different optimiser, eg. ADAM, and report the relevant metrics"
   ]
  },
  {
   "cell_type": "code",
   "execution_count": 31,
   "outputs": [],
   "source": [],
   "metadata": {
    "collapsed": false,
    "pycharm": {
     "name": "#%%\n"
    }
   }
  }
 ],
 "metadata": {
  "kernelspec": {
   "display_name": "Python 3 (ipykernel)",
   "language": "python",
   "name": "python3"
  },
  "language_info": {
   "codemirror_mode": {
    "name": "ipython",
    "version": 3
   },
   "file_extension": ".py",
   "mimetype": "text/x-python",
   "name": "python",
   "nbconvert_exporter": "python",
   "pygments_lexer": "ipython3",
   "version": "3.9.7"
  }
 },
 "nbformat": 4,
 "nbformat_minor": 1
}