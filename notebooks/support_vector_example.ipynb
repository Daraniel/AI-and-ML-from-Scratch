{
 "cells": [
  {
   "cell_type": "code",
   "execution_count": 1,
   "metadata": {
    "collapsed": true,
    "pycharm": {
     "name": "#%%\n"
    }
   },
   "outputs": [],
   "source": [
    "from random import shuffle\n",
    "\n",
    "from common.utils import EvaluationMetrics\n",
    "from models.support_vector import SVM"
   ]
  },
  {
   "cell_type": "code",
   "execution_count": 2,
   "outputs": [],
   "source": [
    "def sign(x):\n",
    "    return -1. if x <= 0 else 1."
   ],
   "metadata": {
    "collapsed": false,
    "pycharm": {
     "name": "#%%\n"
    }
   }
  },
  {
   "cell_type": "code",
   "execution_count": 3,
   "outputs": [],
   "source": [
    "test_data_targets = []\n",
    "test_data_features = []\n",
    "with open('../data/svm/test.csv', 'r') as f:\n",
    "    samples = f.readlines()\n",
    "\n",
    "    for t, row in enumerate(samples):\n",
    "\n",
    "        row = row.replace('\\n', '')\n",
    "        row = row.split(',')\n",
    "\n",
    "        target = -1.\n",
    "\n",
    "        if row[3] == '1':\n",
    "            target = 1.\n",
    "        del row[3]\n",
    "\n",
    "        features = [float(c) for c in row] + [1.]  #inputs + bias\n",
    "\n",
    "        test_data_targets.append(target)\n",
    "        test_data_features.append(features)\n",
    "\n",
    "train_data_targets = []\n",
    "train_data_features = []\n",
    "\n",
    "with open('../data/svm/train.csv', 'r') as f:\n",
    "    samples = f.readlines()\n",
    "    shuffle(samples)\n",
    "\n",
    "    for t, row in enumerate(samples):\n",
    "\n",
    "        row = row.replace('\\n', '')\n",
    "        row = row.split(',')\n",
    "\n",
    "        target = -1.\n",
    "\n",
    "        if row[3] == '1':\n",
    "            target = 1.\n",
    "        del row[3]\n",
    "\n",
    "        features = [float(c) for c in row] + [1.]  #inputs + bias\n",
    "\n",
    "        train_data_targets.append(target)\n",
    "        train_data_features.append(features)"
   ],
   "metadata": {
    "collapsed": false,
    "pycharm": {
     "name": "#%%\n"
    }
   }
  },
  {
   "cell_type": "code",
   "execution_count": 8,
   "outputs": [],
   "source": [
    "model = SVM(1)\n",
    "model.learn(train_data_features, train_data_targets)"
   ],
   "metadata": {
    "collapsed": false,
    "pycharm": {
     "name": "#%%\n"
    }
   }
  },
  {
   "cell_type": "code",
   "execution_count": 9,
   "outputs": [
    {
     "name": "stdout",
     "output_type": "stream",
     "text": [
      "Loss 0.363607301636127\n",
      "Accuracy 92.52575212557227 %\n",
      "True Positive Ratio 100.0 %\n",
      "True Negatives Ratio 90.5693950177936 %\n"
     ]
    }
   ],
   "source": [
    "true_positive, true_negative, total_positive, total_negative = 0, 0, 0, 0\n",
    "\n",
    "accuracy, loss = 0, 0\n",
    "\n",
    "for x, target in zip(test_data_features, test_data_targets):\n",
    "    pred = model.infer(x)\n",
    "    loss += EvaluationMetrics.hinge_loss(target, pred)\n",
    "\n",
    "    pred = sign(pred)\n",
    "\n",
    "    if target == 1:\n",
    "        total_positive += 1.\n",
    "    else:\n",
    "        total_negative += 1.\n",
    "\n",
    "    if pred == target:\n",
    "        accuracy += 1.\n",
    "        if pred == 1:\n",
    "            true_positive += 1.\n",
    "        else:\n",
    "            true_negative += 1.\n",
    "\n",
    "loss = loss / (total_positive + total_negative)\n",
    "acc = accuracy / (total_positive + total_negative)\n",
    "\n",
    "print('Loss', loss)\n",
    "print('Accuracy', acc * 100, '%')\n",
    "print('True Positive Ratio', true_positive/total_positive * 100, '%')\n",
    "print('True Negatives Ratio', true_negative/total_negative * 100, '%')"
   ],
   "metadata": {
    "collapsed": false,
    "pycharm": {
     "name": "#%%\n"
    }
   }
  },
  {
   "cell_type": "code",
   "execution_count": 5,
   "outputs": [],
   "source": [],
   "metadata": {
    "collapsed": false,
    "pycharm": {
     "name": "#%%\n"
    }
   }
  }
 ],
 "metadata": {
  "kernelspec": {
   "display_name": "Python 3",
   "language": "python",
   "name": "python3"
  },
  "language_info": {
   "codemirror_mode": {
    "name": "ipython",
    "version": 2
   },
   "file_extension": ".py",
   "mimetype": "text/x-python",
   "name": "python",
   "nbconvert_exporter": "python",
   "pygments_lexer": "ipython2",
   "version": "2.7.6"
  }
 },
 "nbformat": 4,
 "nbformat_minor": 0
}